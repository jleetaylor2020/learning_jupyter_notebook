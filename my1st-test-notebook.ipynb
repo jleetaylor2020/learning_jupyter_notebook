{
 "cells": [
  {
   "cell_type": "markdown",
   "id": "df3da587",
   "metadata": {},
   "source": [
    "# Jupyter Commands"
   ]
  },
  {
   "cell_type": "markdown",
   "id": "822378a5",
   "metadata": {},
   "source": [
    "-- Import pandas into Jupyter notebook then load in a CSV file. \n",
    "You also could use json, excel per steps: \n",
    "\n",
    "import pandas as pd\n",
    "testdata = pd.read_json('/Users/jess/python/firsttest/data1.json')\n",
    "or\n",
    "import pandas as pd\n",
    "testdata = pd.read_excel('/Users/jess/python/firsttest/data1.xlsx')\n",
    "\n",
    "references: \n",
    "\n",
    "(1) https://ordinarycoders.com/blog/article/25-python-commands-jupyter-notebook\n",
    "\n",
    "(2) https://www.shanelynn.ie/pandas-drop-delete-dataframe-rows-columns/\n"
   ]
  },
  {
   "cell_type": "code",
   "execution_count": 1,
   "id": "b6568be5",
   "metadata": {},
   "outputs": [],
   "source": [
    "import pandas as pd"
   ]
  },
  {
   "cell_type": "markdown",
   "id": "20f29e6c",
   "metadata": {},
   "source": [
    "-- Next read the csv file"
   ]
  },
  {
   "cell_type": "code",
   "execution_count": 79,
   "id": "b7fb1328",
   "metadata": {},
   "outputs": [
    {
     "data": {
      "text/html": [
       "<div>\n",
       "<style scoped>\n",
       "    .dataframe tbody tr th:only-of-type {\n",
       "        vertical-align: middle;\n",
       "    }\n",
       "\n",
       "    .dataframe tbody tr th {\n",
       "        vertical-align: top;\n",
       "    }\n",
       "\n",
       "    .dataframe thead th {\n",
       "        text-align: right;\n",
       "    }\n",
       "</style>\n",
       "<table border=\"1\" class=\"dataframe\">\n",
       "  <thead>\n",
       "    <tr style=\"text-align: right;\">\n",
       "      <th></th>\n",
       "      <th>Months</th>\n",
       "      <th>Region Midwest</th>\n",
       "      <th>Region Northeast</th>\n",
       "      <th>Region South</th>\n",
       "      <th>Region West</th>\n",
       "      <th>fake-_column</th>\n",
       "    </tr>\n",
       "  </thead>\n",
       "  <tbody>\n",
       "    <tr>\n",
       "      <th>0</th>\n",
       "      <td>Feb</td>\n",
       "      <td>22</td>\n",
       "      <td>45</td>\n",
       "      <td>27</td>\n",
       "      <td>37</td>\n",
       "      <td>2</td>\n",
       "    </tr>\n",
       "    <tr>\n",
       "      <th>1</th>\n",
       "      <td>Mar</td>\n",
       "      <td>28</td>\n",
       "      <td>38</td>\n",
       "      <td>43</td>\n",
       "      <td>26</td>\n",
       "      <td>3</td>\n",
       "    </tr>\n",
       "    <tr>\n",
       "      <th>2</th>\n",
       "      <td>Apr</td>\n",
       "      <td>27</td>\n",
       "      <td>37</td>\n",
       "      <td>38</td>\n",
       "      <td>25</td>\n",
       "      <td>4</td>\n",
       "    </tr>\n",
       "    <tr>\n",
       "      <th>3</th>\n",
       "      <td>May</td>\n",
       "      <td>26</td>\n",
       "      <td>35</td>\n",
       "      <td>41</td>\n",
       "      <td>31</td>\n",
       "      <td>5</td>\n",
       "    </tr>\n",
       "    <tr>\n",
       "      <th>4</th>\n",
       "      <td>Jun</td>\n",
       "      <td>22</td>\n",
       "      <td>31</td>\n",
       "      <td>39</td>\n",
       "      <td>25</td>\n",
       "      <td>6</td>\n",
       "    </tr>\n",
       "    <tr>\n",
       "      <th>5</th>\n",
       "      <td>Total</td>\n",
       "      <td>125</td>\n",
       "      <td>186</td>\n",
       "      <td>188</td>\n",
       "      <td>144</td>\n",
       "      <td>20</td>\n",
       "    </tr>\n",
       "  </tbody>\n",
       "</table>\n",
       "</div>"
      ],
      "text/plain": [
       "  Months  Region Midwest  Region Northeast  Region South  Region West  \\\n",
       "0    Feb              22                45            27           37   \n",
       "1    Mar              28                38            43           26   \n",
       "2    Apr              27                37            38           25   \n",
       "3    May              26                35            41           31   \n",
       "4    Jun              22                31            39           25   \n",
       "5  Total             125               186           188          144   \n",
       "\n",
       "   fake-_column  \n",
       "0             2  \n",
       "1             3  \n",
       "2             4  \n",
       "3             5  \n",
       "4             6  \n",
       "5            20  "
      ]
     },
     "execution_count": 79,
     "metadata": {},
     "output_type": "execute_result"
    }
   ],
   "source": [
    "pd.read_csv('data1.csv')"
   ]
  },
  {
   "cell_type": "markdown",
   "id": "826b88cd",
   "metadata": {},
   "source": [
    "-- Check current file path with \"pwd\" then copy & paste"
   ]
  },
  {
   "cell_type": "raw",
   "id": "32dd9bca",
   "metadata": {},
   "source": [
    "pwd"
   ]
  },
  {
   "cell_type": "markdown",
   "id": "2f980b3a",
   "metadata": {},
   "source": [
    "-- Create a variable like \"testdata\" and set it to file path. This allows easy use of \"testdata\" instead of long file path name."
   ]
  },
  {
   "cell_type": "code",
   "execution_count": 87,
   "id": "dea6bf74",
   "metadata": {},
   "outputs": [],
   "source": [
    "df= pd.read_csv('/Users/jess/python/firsttest/data1.csv')"
   ]
  },
  {
   "cell_type": "markdown",
   "id": "6f1ad630",
   "metadata": {},
   "source": [
    "-- Examine the first 5 rows using head()"
   ]
  },
  {
   "cell_type": "code",
   "execution_count": 82,
   "id": "5749b98b",
   "metadata": {
    "scrolled": false
   },
   "outputs": [
    {
     "data": {
      "text/html": [
       "<div>\n",
       "<style scoped>\n",
       "    .dataframe tbody tr th:only-of-type {\n",
       "        vertical-align: middle;\n",
       "    }\n",
       "\n",
       "    .dataframe tbody tr th {\n",
       "        vertical-align: top;\n",
       "    }\n",
       "\n",
       "    .dataframe thead th {\n",
       "        text-align: right;\n",
       "    }\n",
       "</style>\n",
       "<table border=\"1\" class=\"dataframe\">\n",
       "  <thead>\n",
       "    <tr style=\"text-align: right;\">\n",
       "      <th></th>\n",
       "      <th>Months</th>\n",
       "      <th>Region Midwest</th>\n",
       "      <th>Region Northeast</th>\n",
       "      <th>Region South</th>\n",
       "      <th>Region West</th>\n",
       "      <th>fake-_column</th>\n",
       "    </tr>\n",
       "  </thead>\n",
       "  <tbody>\n",
       "    <tr>\n",
       "      <th>0</th>\n",
       "      <td>Feb</td>\n",
       "      <td>22</td>\n",
       "      <td>45</td>\n",
       "      <td>27</td>\n",
       "      <td>37</td>\n",
       "      <td>2</td>\n",
       "    </tr>\n",
       "    <tr>\n",
       "      <th>1</th>\n",
       "      <td>Mar</td>\n",
       "      <td>28</td>\n",
       "      <td>38</td>\n",
       "      <td>43</td>\n",
       "      <td>26</td>\n",
       "      <td>3</td>\n",
       "    </tr>\n",
       "    <tr>\n",
       "      <th>2</th>\n",
       "      <td>Apr</td>\n",
       "      <td>27</td>\n",
       "      <td>37</td>\n",
       "      <td>38</td>\n",
       "      <td>25</td>\n",
       "      <td>4</td>\n",
       "    </tr>\n",
       "    <tr>\n",
       "      <th>3</th>\n",
       "      <td>May</td>\n",
       "      <td>26</td>\n",
       "      <td>35</td>\n",
       "      <td>41</td>\n",
       "      <td>31</td>\n",
       "      <td>5</td>\n",
       "    </tr>\n",
       "    <tr>\n",
       "      <th>4</th>\n",
       "      <td>Jun</td>\n",
       "      <td>22</td>\n",
       "      <td>31</td>\n",
       "      <td>39</td>\n",
       "      <td>25</td>\n",
       "      <td>6</td>\n",
       "    </tr>\n",
       "  </tbody>\n",
       "</table>\n",
       "</div>"
      ],
      "text/plain": [
       "  Months  Region Midwest  Region Northeast  Region South  Region West  \\\n",
       "0    Feb              22                45            27           37   \n",
       "1    Mar              28                38            43           26   \n",
       "2    Apr              27                37            38           25   \n",
       "3    May              26                35            41           31   \n",
       "4    Jun              22                31            39           25   \n",
       "\n",
       "   fake-_column  \n",
       "0             2  \n",
       "1             3  \n",
       "2             4  \n",
       "3             5  \n",
       "4             6  "
      ]
     },
     "execution_count": 82,
     "metadata": {},
     "output_type": "execute_result"
    }
   ],
   "source": [
    "df.head()"
   ]
  },
  {
   "cell_type": "markdown",
   "id": "5c5f7527",
   "metadata": {},
   "source": [
    "-- Get a list of commands us lsmagic"
   ]
  },
  {
   "cell_type": "code",
   "execution_count": 14,
   "id": "e70308e3",
   "metadata": {
    "scrolled": true
   },
   "outputs": [
    {
     "data": {
      "application/json": {
       "cell": {
        "!": "OSMagics",
        "HTML": "Other",
        "SVG": "Other",
        "bash": "Other",
        "capture": "ExecutionMagics",
        "debug": "ExecutionMagics",
        "file": "Other",
        "html": "DisplayMagics",
        "javascript": "DisplayMagics",
        "js": "DisplayMagics",
        "latex": "DisplayMagics",
        "markdown": "DisplayMagics",
        "perl": "Other",
        "prun": "ExecutionMagics",
        "pypy": "Other",
        "python": "Other",
        "python2": "Other",
        "python3": "Other",
        "ruby": "Other",
        "script": "ScriptMagics",
        "sh": "Other",
        "svg": "DisplayMagics",
        "sx": "OSMagics",
        "system": "OSMagics",
        "time": "ExecutionMagics",
        "timeit": "ExecutionMagics",
        "writefile": "OSMagics"
       },
       "line": {
        "alias": "OSMagics",
        "alias_magic": "BasicMagics",
        "autoawait": "AsyncMagics",
        "autocall": "AutoMagics",
        "automagic": "AutoMagics",
        "autosave": "KernelMagics",
        "bookmark": "OSMagics",
        "cat": "Other",
        "cd": "OSMagics",
        "clear": "KernelMagics",
        "colors": "BasicMagics",
        "conda": "PackagingMagics",
        "config": "ConfigMagics",
        "connect_info": "KernelMagics",
        "cp": "Other",
        "debug": "ExecutionMagics",
        "dhist": "OSMagics",
        "dirs": "OSMagics",
        "doctest_mode": "BasicMagics",
        "ed": "Other",
        "edit": "KernelMagics",
        "env": "OSMagics",
        "gui": "BasicMagics",
        "hist": "Other",
        "history": "HistoryMagics",
        "killbgscripts": "ScriptMagics",
        "ldir": "Other",
        "less": "KernelMagics",
        "lf": "Other",
        "lk": "Other",
        "ll": "Other",
        "load": "CodeMagics",
        "load_ext": "ExtensionMagics",
        "loadpy": "CodeMagics",
        "logoff": "LoggingMagics",
        "logon": "LoggingMagics",
        "logstart": "LoggingMagics",
        "logstate": "LoggingMagics",
        "logstop": "LoggingMagics",
        "ls": "Other",
        "lsmagic": "BasicMagics",
        "lx": "Other",
        "macro": "ExecutionMagics",
        "magic": "BasicMagics",
        "man": "KernelMagics",
        "matplotlib": "PylabMagics",
        "mkdir": "Other",
        "more": "KernelMagics",
        "mv": "Other",
        "notebook": "BasicMagics",
        "page": "BasicMagics",
        "pastebin": "CodeMagics",
        "pdb": "ExecutionMagics",
        "pdef": "NamespaceMagics",
        "pdoc": "NamespaceMagics",
        "pfile": "NamespaceMagics",
        "pinfo": "NamespaceMagics",
        "pinfo2": "NamespaceMagics",
        "pip": "PackagingMagics",
        "popd": "OSMagics",
        "pprint": "BasicMagics",
        "precision": "BasicMagics",
        "prun": "ExecutionMagics",
        "psearch": "NamespaceMagics",
        "psource": "NamespaceMagics",
        "pushd": "OSMagics",
        "pwd": "OSMagics",
        "pycat": "OSMagics",
        "pylab": "PylabMagics",
        "qtconsole": "KernelMagics",
        "quickref": "BasicMagics",
        "recall": "HistoryMagics",
        "rehashx": "OSMagics",
        "reload_ext": "ExtensionMagics",
        "rep": "Other",
        "rerun": "HistoryMagics",
        "reset": "NamespaceMagics",
        "reset_selective": "NamespaceMagics",
        "rm": "Other",
        "rmdir": "Other",
        "run": "ExecutionMagics",
        "save": "CodeMagics",
        "sc": "OSMagics",
        "set_env": "OSMagics",
        "store": "StoreMagics",
        "sx": "OSMagics",
        "system": "OSMagics",
        "tb": "ExecutionMagics",
        "time": "ExecutionMagics",
        "timeit": "ExecutionMagics",
        "unalias": "OSMagics",
        "unload_ext": "ExtensionMagics",
        "who": "NamespaceMagics",
        "who_ls": "NamespaceMagics",
        "whos": "NamespaceMagics",
        "xdel": "NamespaceMagics",
        "xmode": "BasicMagics"
       }
      },
      "text/plain": [
       "Available line magics:\n",
       "%alias  %alias_magic  %autoawait  %autocall  %automagic  %autosave  %bookmark  %cat  %cd  %clear  %colors  %conda  %config  %connect_info  %cp  %debug  %dhist  %dirs  %doctest_mode  %ed  %edit  %env  %gui  %hist  %history  %killbgscripts  %ldir  %less  %lf  %lk  %ll  %load  %load_ext  %loadpy  %logoff  %logon  %logstart  %logstate  %logstop  %ls  %lsmagic  %lx  %macro  %magic  %man  %matplotlib  %mkdir  %more  %mv  %notebook  %page  %pastebin  %pdb  %pdef  %pdoc  %pfile  %pinfo  %pinfo2  %pip  %popd  %pprint  %precision  %prun  %psearch  %psource  %pushd  %pwd  %pycat  %pylab  %qtconsole  %quickref  %recall  %rehashx  %reload_ext  %rep  %rerun  %reset  %reset_selective  %rm  %rmdir  %run  %save  %sc  %set_env  %store  %sx  %system  %tb  %time  %timeit  %unalias  %unload_ext  %who  %who_ls  %whos  %xdel  %xmode\n",
       "\n",
       "Available cell magics:\n",
       "%%!  %%HTML  %%SVG  %%bash  %%capture  %%debug  %%file  %%html  %%javascript  %%js  %%latex  %%markdown  %%perl  %%prun  %%pypy  %%python  %%python2  %%python3  %%ruby  %%script  %%sh  %%svg  %%sx  %%system  %%time  %%timeit  %%writefile\n",
       "\n",
       "Automagic is ON, % prefix IS NOT needed for line magics."
      ]
     },
     "execution_count": 14,
     "metadata": {},
     "output_type": "execute_result"
    }
   ],
   "source": [
    "lsmagic"
   ]
  },
  {
   "cell_type": "code",
   "execution_count": 83,
   "id": "6081cd6f",
   "metadata": {},
   "outputs": [
    {
     "name": "stdout",
     "output_type": "stream",
     "text": [
      "df\t df2\t division\t np\t pd\t print_function\t testdata\t \n"
     ]
    }
   ],
   "source": [
    "who"
   ]
  },
  {
   "cell_type": "markdown",
   "id": "14e37576",
   "metadata": {},
   "source": [
    "-- View columns with .columns command"
   ]
  },
  {
   "cell_type": "code",
   "execution_count": 84,
   "id": "8c1341e5",
   "metadata": {
    "scrolled": true
   },
   "outputs": [
    {
     "data": {
      "text/plain": [
       "Index(['Months', 'Region Midwest', 'Region Northeast', 'Region South',\n",
       "       'Region West', 'fake-_column'],\n",
       "      dtype='object')"
      ]
     },
     "execution_count": 84,
     "metadata": {},
     "output_type": "execute_result"
    }
   ],
   "source": [
    "df.columns"
   ]
  },
  {
   "cell_type": "markdown",
   "id": "2ebbd77c",
   "metadata": {},
   "source": [
    "-- Display one specific column or multiple columns by calling on their names."
   ]
  },
  {
   "cell_type": "code",
   "execution_count": 106,
   "id": "9313486f",
   "metadata": {},
   "outputs": [
    {
     "data": {
      "text/html": [
       "<div>\n",
       "<style scoped>\n",
       "    .dataframe tbody tr th:only-of-type {\n",
       "        vertical-align: middle;\n",
       "    }\n",
       "\n",
       "    .dataframe tbody tr th {\n",
       "        vertical-align: top;\n",
       "    }\n",
       "\n",
       "    .dataframe thead th {\n",
       "        text-align: right;\n",
       "    }\n",
       "</style>\n",
       "<table border=\"1\" class=\"dataframe\">\n",
       "  <thead>\n",
       "    <tr style=\"text-align: right;\">\n",
       "      <th></th>\n",
       "      <th>Region South</th>\n",
       "      <th>Months</th>\n",
       "    </tr>\n",
       "  </thead>\n",
       "  <tbody>\n",
       "    <tr>\n",
       "      <th>0</th>\n",
       "      <td>27</td>\n",
       "      <td>Feb</td>\n",
       "    </tr>\n",
       "    <tr>\n",
       "      <th>1</th>\n",
       "      <td>43</td>\n",
       "      <td>Mar</td>\n",
       "    </tr>\n",
       "    <tr>\n",
       "      <th>2</th>\n",
       "      <td>38</td>\n",
       "      <td>Apr</td>\n",
       "    </tr>\n",
       "    <tr>\n",
       "      <th>3</th>\n",
       "      <td>41</td>\n",
       "      <td>May</td>\n",
       "    </tr>\n",
       "    <tr>\n",
       "      <th>4</th>\n",
       "      <td>39</td>\n",
       "      <td>Jun</td>\n",
       "    </tr>\n",
       "    <tr>\n",
       "      <th>5</th>\n",
       "      <td>188</td>\n",
       "      <td>Total</td>\n",
       "    </tr>\n",
       "  </tbody>\n",
       "</table>\n",
       "</div>"
      ],
      "text/plain": [
       "   Region South Months\n",
       "0            27    Feb\n",
       "1            43    Mar\n",
       "2            38    Apr\n",
       "3            41    May\n",
       "4            39    Jun\n",
       "5           188  Total"
      ]
     },
     "execution_count": 106,
     "metadata": {},
     "output_type": "execute_result"
    }
   ],
   "source": [
    "df[['Region South', 'Months']]"
   ]
  },
  {
   "cell_type": "markdown",
   "id": "3fd5e962",
   "metadata": {},
   "source": [
    "-- Use .sort_values to display the data frame alphabetically by the column specified. Add ascending=False to sort by descending alphabetical order.\n"
   ]
  },
  {
   "cell_type": "code",
   "execution_count": 88,
   "id": "34f6590d",
   "metadata": {},
   "outputs": [
    {
     "data": {
      "text/html": [
       "<div>\n",
       "<style scoped>\n",
       "    .dataframe tbody tr th:only-of-type {\n",
       "        vertical-align: middle;\n",
       "    }\n",
       "\n",
       "    .dataframe tbody tr th {\n",
       "        vertical-align: top;\n",
       "    }\n",
       "\n",
       "    .dataframe thead th {\n",
       "        text-align: right;\n",
       "    }\n",
       "</style>\n",
       "<table border=\"1\" class=\"dataframe\">\n",
       "  <thead>\n",
       "    <tr style=\"text-align: right;\">\n",
       "      <th></th>\n",
       "      <th>Months</th>\n",
       "      <th>Region Midwest</th>\n",
       "      <th>Region Northeast</th>\n",
       "      <th>Region South</th>\n",
       "      <th>Region West</th>\n",
       "      <th>fake-_column</th>\n",
       "    </tr>\n",
       "  </thead>\n",
       "  <tbody>\n",
       "    <tr>\n",
       "      <th>5</th>\n",
       "      <td>Total</td>\n",
       "      <td>125</td>\n",
       "      <td>186</td>\n",
       "      <td>188</td>\n",
       "      <td>144</td>\n",
       "      <td>20</td>\n",
       "    </tr>\n",
       "    <tr>\n",
       "      <th>3</th>\n",
       "      <td>May</td>\n",
       "      <td>26</td>\n",
       "      <td>35</td>\n",
       "      <td>41</td>\n",
       "      <td>31</td>\n",
       "      <td>5</td>\n",
       "    </tr>\n",
       "    <tr>\n",
       "      <th>1</th>\n",
       "      <td>Mar</td>\n",
       "      <td>28</td>\n",
       "      <td>38</td>\n",
       "      <td>43</td>\n",
       "      <td>26</td>\n",
       "      <td>3</td>\n",
       "    </tr>\n",
       "    <tr>\n",
       "      <th>4</th>\n",
       "      <td>Jun</td>\n",
       "      <td>22</td>\n",
       "      <td>31</td>\n",
       "      <td>39</td>\n",
       "      <td>25</td>\n",
       "      <td>6</td>\n",
       "    </tr>\n",
       "    <tr>\n",
       "      <th>0</th>\n",
       "      <td>Feb</td>\n",
       "      <td>22</td>\n",
       "      <td>45</td>\n",
       "      <td>27</td>\n",
       "      <td>37</td>\n",
       "      <td>2</td>\n",
       "    </tr>\n",
       "    <tr>\n",
       "      <th>2</th>\n",
       "      <td>Apr</td>\n",
       "      <td>27</td>\n",
       "      <td>37</td>\n",
       "      <td>38</td>\n",
       "      <td>25</td>\n",
       "      <td>4</td>\n",
       "    </tr>\n",
       "  </tbody>\n",
       "</table>\n",
       "</div>"
      ],
      "text/plain": [
       "  Months  Region Midwest  Region Northeast  Region South  Region West  \\\n",
       "5  Total             125               186           188          144   \n",
       "3    May              26                35            41           31   \n",
       "1    Mar              28                38            43           26   \n",
       "4    Jun              22                31            39           25   \n",
       "0    Feb              22                45            27           37   \n",
       "2    Apr              27                37            38           25   \n",
       "\n",
       "   fake-_column  \n",
       "5            20  \n",
       "3             5  \n",
       "1             3  \n",
       "4             6  \n",
       "0             2  \n",
       "2             4  "
      ]
     },
     "execution_count": 88,
     "metadata": {},
     "output_type": "execute_result"
    }
   ],
   "source": [
    "df.sort_values('Months', ascending=False)"
   ]
  },
  {
   "cell_type": "markdown",
   "id": "06e0d409",
   "metadata": {},
   "source": [
    "-- Drops a column called 'fake-_column' specified from the data set."
   ]
  },
  {
   "cell_type": "code",
   "execution_count": 108,
   "id": "cce815db",
   "metadata": {},
   "outputs": [],
   "source": [
    "df = df.drop(columns = ['fake-_column'])"
   ]
  },
  {
   "cell_type": "code",
   "execution_count": 109,
   "id": "d0e98f58",
   "metadata": {},
   "outputs": [
    {
     "data": {
      "text/plain": [
       "Index(['Months', 'Region Midwest', 'Region Northeast', 'Region South',\n",
       "       'Region West'],\n",
       "      dtype='object')"
      ]
     },
     "execution_count": 109,
     "metadata": {},
     "output_type": "execute_result"
    }
   ],
   "source": [
    "df.columns"
   ]
  },
  {
   "cell_type": "code",
   "execution_count": 110,
   "id": "89e05b45",
   "metadata": {},
   "outputs": [
    {
     "data": {
      "text/html": [
       "<div>\n",
       "<style scoped>\n",
       "    .dataframe tbody tr th:only-of-type {\n",
       "        vertical-align: middle;\n",
       "    }\n",
       "\n",
       "    .dataframe tbody tr th {\n",
       "        vertical-align: top;\n",
       "    }\n",
       "\n",
       "    .dataframe thead th {\n",
       "        text-align: right;\n",
       "    }\n",
       "</style>\n",
       "<table border=\"1\" class=\"dataframe\">\n",
       "  <thead>\n",
       "    <tr style=\"text-align: right;\">\n",
       "      <th></th>\n",
       "      <th>Months</th>\n",
       "      <th>Region Midwest</th>\n",
       "      <th>Region Northeast</th>\n",
       "      <th>Region South</th>\n",
       "      <th>Region West</th>\n",
       "    </tr>\n",
       "  </thead>\n",
       "  <tbody>\n",
       "    <tr>\n",
       "      <th>5</th>\n",
       "      <td>Total</td>\n",
       "      <td>125</td>\n",
       "      <td>186</td>\n",
       "      <td>188</td>\n",
       "      <td>144</td>\n",
       "    </tr>\n",
       "    <tr>\n",
       "      <th>3</th>\n",
       "      <td>May</td>\n",
       "      <td>26</td>\n",
       "      <td>35</td>\n",
       "      <td>41</td>\n",
       "      <td>31</td>\n",
       "    </tr>\n",
       "    <tr>\n",
       "      <th>1</th>\n",
       "      <td>Mar</td>\n",
       "      <td>28</td>\n",
       "      <td>38</td>\n",
       "      <td>43</td>\n",
       "      <td>26</td>\n",
       "    </tr>\n",
       "    <tr>\n",
       "      <th>4</th>\n",
       "      <td>Jun</td>\n",
       "      <td>22</td>\n",
       "      <td>31</td>\n",
       "      <td>39</td>\n",
       "      <td>25</td>\n",
       "    </tr>\n",
       "    <tr>\n",
       "      <th>0</th>\n",
       "      <td>Feb</td>\n",
       "      <td>22</td>\n",
       "      <td>45</td>\n",
       "      <td>27</td>\n",
       "      <td>37</td>\n",
       "    </tr>\n",
       "    <tr>\n",
       "      <th>2</th>\n",
       "      <td>Apr</td>\n",
       "      <td>27</td>\n",
       "      <td>37</td>\n",
       "      <td>38</td>\n",
       "      <td>25</td>\n",
       "    </tr>\n",
       "  </tbody>\n",
       "</table>\n",
       "</div>"
      ],
      "text/plain": [
       "  Months  Region Midwest  Region Northeast  Region South  Region West\n",
       "5  Total             125               186           188          144\n",
       "3    May              26                35            41           31\n",
       "1    Mar              28                38            43           26\n",
       "4    Jun              22                31            39           25\n",
       "0    Feb              22                45            27           37\n",
       "2    Apr              27                37            38           25"
      ]
     },
     "execution_count": 110,
     "metadata": {},
     "output_type": "execute_result"
    }
   ],
   "source": [
    "df.sort_values('Months', ascending=False)"
   ]
  },
  {
   "cell_type": "markdown",
   "id": "7cea14aa",
   "metadata": {},
   "source": [
    "Delete a row by viewing the index value - Example: Delete row \"Total\" which has an index value =5"
   ]
  },
  {
   "cell_type": "code",
   "execution_count": 111,
   "id": "583b09a2",
   "metadata": {},
   "outputs": [],
   "source": [
    "df = df.drop(labels=5, axis=0)"
   ]
  },
  {
   "cell_type": "markdown",
   "id": "51048989",
   "metadata": {},
   "source": [
    "View it again to see if row \"Total\" has been dropped successfully "
   ]
  },
  {
   "cell_type": "code",
   "execution_count": 112,
   "id": "8bcb3464",
   "metadata": {},
   "outputs": [
    {
     "data": {
      "text/html": [
       "<div>\n",
       "<style scoped>\n",
       "    .dataframe tbody tr th:only-of-type {\n",
       "        vertical-align: middle;\n",
       "    }\n",
       "\n",
       "    .dataframe tbody tr th {\n",
       "        vertical-align: top;\n",
       "    }\n",
       "\n",
       "    .dataframe thead th {\n",
       "        text-align: right;\n",
       "    }\n",
       "</style>\n",
       "<table border=\"1\" class=\"dataframe\">\n",
       "  <thead>\n",
       "    <tr style=\"text-align: right;\">\n",
       "      <th></th>\n",
       "      <th>Months</th>\n",
       "      <th>Region Midwest</th>\n",
       "      <th>Region Northeast</th>\n",
       "      <th>Region South</th>\n",
       "      <th>Region West</th>\n",
       "    </tr>\n",
       "  </thead>\n",
       "  <tbody>\n",
       "    <tr>\n",
       "      <th>3</th>\n",
       "      <td>May</td>\n",
       "      <td>26</td>\n",
       "      <td>35</td>\n",
       "      <td>41</td>\n",
       "      <td>31</td>\n",
       "    </tr>\n",
       "    <tr>\n",
       "      <th>1</th>\n",
       "      <td>Mar</td>\n",
       "      <td>28</td>\n",
       "      <td>38</td>\n",
       "      <td>43</td>\n",
       "      <td>26</td>\n",
       "    </tr>\n",
       "    <tr>\n",
       "      <th>4</th>\n",
       "      <td>Jun</td>\n",
       "      <td>22</td>\n",
       "      <td>31</td>\n",
       "      <td>39</td>\n",
       "      <td>25</td>\n",
       "    </tr>\n",
       "    <tr>\n",
       "      <th>0</th>\n",
       "      <td>Feb</td>\n",
       "      <td>22</td>\n",
       "      <td>45</td>\n",
       "      <td>27</td>\n",
       "      <td>37</td>\n",
       "    </tr>\n",
       "    <tr>\n",
       "      <th>2</th>\n",
       "      <td>Apr</td>\n",
       "      <td>27</td>\n",
       "      <td>37</td>\n",
       "      <td>38</td>\n",
       "      <td>25</td>\n",
       "    </tr>\n",
       "  </tbody>\n",
       "</table>\n",
       "</div>"
      ],
      "text/plain": [
       "  Months  Region Midwest  Region Northeast  Region South  Region West\n",
       "3    May              26                35            41           31\n",
       "1    Mar              28                38            43           26\n",
       "4    Jun              22                31            39           25\n",
       "0    Feb              22                45            27           37\n",
       "2    Apr              27                37            38           25"
      ]
     },
     "execution_count": 112,
     "metadata": {},
     "output_type": "execute_result"
    }
   ],
   "source": [
    "df.sort_values('Months', ascending=False)"
   ]
  },
  {
   "cell_type": "markdown",
   "id": "544cd5e6",
   "metadata": {},
   "source": [
    "Create a new column we will call \"Total\" by sum all columns together"
   ]
  },
  {
   "cell_type": "code",
   "execution_count": 119,
   "id": "6ba1a610",
   "metadata": {},
   "outputs": [],
   "source": [
    "df['Total'] = df['Region Midwest'] + df['Region Northeast'] + df['Region South'] + df['Region West']"
   ]
  },
  {
   "cell_type": "markdown",
   "id": "2cad4465",
   "metadata": {},
   "source": [
    "Display the first 10 rows of the data frame. Add a number in the parentheses and that number of rows will display."
   ]
  },
  {
   "cell_type": "code",
   "execution_count": 121,
   "id": "da28e5b0",
   "metadata": {},
   "outputs": [
    {
     "data": {
      "text/html": [
       "<div>\n",
       "<style scoped>\n",
       "    .dataframe tbody tr th:only-of-type {\n",
       "        vertical-align: middle;\n",
       "    }\n",
       "\n",
       "    .dataframe tbody tr th {\n",
       "        vertical-align: top;\n",
       "    }\n",
       "\n",
       "    .dataframe thead th {\n",
       "        text-align: right;\n",
       "    }\n",
       "</style>\n",
       "<table border=\"1\" class=\"dataframe\">\n",
       "  <thead>\n",
       "    <tr style=\"text-align: right;\">\n",
       "      <th></th>\n",
       "      <th>Months</th>\n",
       "      <th>Region Midwest</th>\n",
       "      <th>Region Northeast</th>\n",
       "      <th>Region South</th>\n",
       "      <th>Region West</th>\n",
       "      <th>Total</th>\n",
       "    </tr>\n",
       "  </thead>\n",
       "  <tbody>\n",
       "    <tr>\n",
       "      <th>0</th>\n",
       "      <td>Feb</td>\n",
       "      <td>22</td>\n",
       "      <td>45</td>\n",
       "      <td>27</td>\n",
       "      <td>37</td>\n",
       "      <td>131</td>\n",
       "    </tr>\n",
       "    <tr>\n",
       "      <th>1</th>\n",
       "      <td>Mar</td>\n",
       "      <td>28</td>\n",
       "      <td>38</td>\n",
       "      <td>43</td>\n",
       "      <td>26</td>\n",
       "      <td>135</td>\n",
       "    </tr>\n",
       "    <tr>\n",
       "      <th>2</th>\n",
       "      <td>Apr</td>\n",
       "      <td>27</td>\n",
       "      <td>37</td>\n",
       "      <td>38</td>\n",
       "      <td>25</td>\n",
       "      <td>127</td>\n",
       "    </tr>\n",
       "    <tr>\n",
       "      <th>3</th>\n",
       "      <td>May</td>\n",
       "      <td>26</td>\n",
       "      <td>35</td>\n",
       "      <td>41</td>\n",
       "      <td>31</td>\n",
       "      <td>133</td>\n",
       "    </tr>\n",
       "    <tr>\n",
       "      <th>4</th>\n",
       "      <td>Jun</td>\n",
       "      <td>22</td>\n",
       "      <td>31</td>\n",
       "      <td>39</td>\n",
       "      <td>25</td>\n",
       "      <td>117</td>\n",
       "    </tr>\n",
       "  </tbody>\n",
       "</table>\n",
       "</div>"
      ],
      "text/plain": [
       "  Months  Region Midwest  Region Northeast  Region South  Region West  Total\n",
       "0    Feb              22                45            27           37    131\n",
       "1    Mar              28                38            43           26    135\n",
       "2    Apr              27                37            38           25    127\n",
       "3    May              26                35            41           31    133\n",
       "4    Jun              22                31            39           25    117"
      ]
     },
     "execution_count": 121,
     "metadata": {},
     "output_type": "execute_result"
    }
   ],
   "source": [
    "df.head(10)"
   ]
  },
  {
   "cell_type": "markdown",
   "id": "848ccf2b",
   "metadata": {},
   "source": [
    "Displays the last 10 rows of the data frame. Add a number in the parentheses and that number of rows will display."
   ]
  },
  {
   "cell_type": "code",
   "execution_count": 122,
   "id": "afd3651f",
   "metadata": {},
   "outputs": [
    {
     "data": {
      "text/html": [
       "<div>\n",
       "<style scoped>\n",
       "    .dataframe tbody tr th:only-of-type {\n",
       "        vertical-align: middle;\n",
       "    }\n",
       "\n",
       "    .dataframe tbody tr th {\n",
       "        vertical-align: top;\n",
       "    }\n",
       "\n",
       "    .dataframe thead th {\n",
       "        text-align: right;\n",
       "    }\n",
       "</style>\n",
       "<table border=\"1\" class=\"dataframe\">\n",
       "  <thead>\n",
       "    <tr style=\"text-align: right;\">\n",
       "      <th></th>\n",
       "      <th>Months</th>\n",
       "      <th>Region Midwest</th>\n",
       "      <th>Region Northeast</th>\n",
       "      <th>Region South</th>\n",
       "      <th>Region West</th>\n",
       "      <th>Total</th>\n",
       "    </tr>\n",
       "  </thead>\n",
       "  <tbody>\n",
       "    <tr>\n",
       "      <th>0</th>\n",
       "      <td>Feb</td>\n",
       "      <td>22</td>\n",
       "      <td>45</td>\n",
       "      <td>27</td>\n",
       "      <td>37</td>\n",
       "      <td>131</td>\n",
       "    </tr>\n",
       "    <tr>\n",
       "      <th>1</th>\n",
       "      <td>Mar</td>\n",
       "      <td>28</td>\n",
       "      <td>38</td>\n",
       "      <td>43</td>\n",
       "      <td>26</td>\n",
       "      <td>135</td>\n",
       "    </tr>\n",
       "    <tr>\n",
       "      <th>2</th>\n",
       "      <td>Apr</td>\n",
       "      <td>27</td>\n",
       "      <td>37</td>\n",
       "      <td>38</td>\n",
       "      <td>25</td>\n",
       "      <td>127</td>\n",
       "    </tr>\n",
       "    <tr>\n",
       "      <th>3</th>\n",
       "      <td>May</td>\n",
       "      <td>26</td>\n",
       "      <td>35</td>\n",
       "      <td>41</td>\n",
       "      <td>31</td>\n",
       "      <td>133</td>\n",
       "    </tr>\n",
       "    <tr>\n",
       "      <th>4</th>\n",
       "      <td>Jun</td>\n",
       "      <td>22</td>\n",
       "      <td>31</td>\n",
       "      <td>39</td>\n",
       "      <td>25</td>\n",
       "      <td>117</td>\n",
       "    </tr>\n",
       "  </tbody>\n",
       "</table>\n",
       "</div>"
      ],
      "text/plain": [
       "  Months  Region Midwest  Region Northeast  Region South  Region West  Total\n",
       "0    Feb              22                45            27           37    131\n",
       "1    Mar              28                38            43           26    135\n",
       "2    Apr              27                37            38           25    127\n",
       "3    May              26                35            41           31    133\n",
       "4    Jun              22                31            39           25    117"
      ]
     },
     "execution_count": 122,
     "metadata": {},
     "output_type": "execute_result"
    }
   ],
   "source": [
    "df.tail(10)"
   ]
  },
  {
   "cell_type": "markdown",
   "id": "0ed762a3",
   "metadata": {},
   "source": [
    "Displays row 0-4 of the data frame. Note, the data frame starts counting rows/columns at 0 instead of 1.\n",
    "\n"
   ]
  },
  {
   "cell_type": "code",
   "execution_count": 123,
   "id": "b82557af",
   "metadata": {},
   "outputs": [
    {
     "data": {
      "text/html": [
       "<div>\n",
       "<style scoped>\n",
       "    .dataframe tbody tr th:only-of-type {\n",
       "        vertical-align: middle;\n",
       "    }\n",
       "\n",
       "    .dataframe tbody tr th {\n",
       "        vertical-align: top;\n",
       "    }\n",
       "\n",
       "    .dataframe thead th {\n",
       "        text-align: right;\n",
       "    }\n",
       "</style>\n",
       "<table border=\"1\" class=\"dataframe\">\n",
       "  <thead>\n",
       "    <tr style=\"text-align: right;\">\n",
       "      <th></th>\n",
       "      <th>Months</th>\n",
       "      <th>Region Midwest</th>\n",
       "      <th>Region Northeast</th>\n",
       "      <th>Region South</th>\n",
       "      <th>Region West</th>\n",
       "      <th>Total</th>\n",
       "    </tr>\n",
       "  </thead>\n",
       "  <tbody>\n",
       "    <tr>\n",
       "      <th>0</th>\n",
       "      <td>Feb</td>\n",
       "      <td>22</td>\n",
       "      <td>45</td>\n",
       "      <td>27</td>\n",
       "      <td>37</td>\n",
       "      <td>131</td>\n",
       "    </tr>\n",
       "    <tr>\n",
       "      <th>1</th>\n",
       "      <td>Mar</td>\n",
       "      <td>28</td>\n",
       "      <td>38</td>\n",
       "      <td>43</td>\n",
       "      <td>26</td>\n",
       "      <td>135</td>\n",
       "    </tr>\n",
       "    <tr>\n",
       "      <th>2</th>\n",
       "      <td>Apr</td>\n",
       "      <td>27</td>\n",
       "      <td>37</td>\n",
       "      <td>38</td>\n",
       "      <td>25</td>\n",
       "      <td>127</td>\n",
       "    </tr>\n",
       "    <tr>\n",
       "      <th>3</th>\n",
       "      <td>May</td>\n",
       "      <td>26</td>\n",
       "      <td>35</td>\n",
       "      <td>41</td>\n",
       "      <td>31</td>\n",
       "      <td>133</td>\n",
       "    </tr>\n",
       "    <tr>\n",
       "      <th>4</th>\n",
       "      <td>Jun</td>\n",
       "      <td>22</td>\n",
       "      <td>31</td>\n",
       "      <td>39</td>\n",
       "      <td>25</td>\n",
       "      <td>117</td>\n",
       "    </tr>\n",
       "  </tbody>\n",
       "</table>\n",
       "</div>"
      ],
      "text/plain": [
       "  Months  Region Midwest  Region Northeast  Region South  Region West  Total\n",
       "0    Feb              22                45            27           37    131\n",
       "1    Mar              28                38            43           26    135\n",
       "2    Apr              27                37            38           25    127\n",
       "3    May              26                35            41           31    133\n",
       "4    Jun              22                31            39           25    117"
      ]
     },
     "execution_count": 123,
     "metadata": {},
     "output_type": "execute_result"
    }
   ],
   "source": [
    "df.iloc[0:5]"
   ]
  },
  {
   "cell_type": "markdown",
   "id": "3dc2f98b",
   "metadata": {},
   "source": [
    "Outputs the data type of each column.(i.e. object, int32, datetime64...) "
   ]
  },
  {
   "cell_type": "code",
   "execution_count": 125,
   "id": "e379f83d",
   "metadata": {},
   "outputs": [
    {
     "data": {
      "text/plain": [
       "Months              object\n",
       "Region Midwest       int64\n",
       "Region Northeast     int64\n",
       "Region South         int64\n",
       "Region West          int64\n",
       "Total                int64\n",
       "dtype: object"
      ]
     },
     "execution_count": 125,
     "metadata": {},
     "output_type": "execute_result"
    }
   ],
   "source": [
    "df.dtypes"
   ]
  },
  {
   "cell_type": "markdown",
   "id": "cdb18a87",
   "metadata": {},
   "source": [
    "Identify duplicates in the data set.\n",
    "\n"
   ]
  },
  {
   "cell_type": "code",
   "execution_count": 126,
   "id": "adfce1a1",
   "metadata": {},
   "outputs": [
    {
     "data": {
      "text/html": [
       "<div>\n",
       "<style scoped>\n",
       "    .dataframe tbody tr th:only-of-type {\n",
       "        vertical-align: middle;\n",
       "    }\n",
       "\n",
       "    .dataframe tbody tr th {\n",
       "        vertical-align: top;\n",
       "    }\n",
       "\n",
       "    .dataframe thead th {\n",
       "        text-align: right;\n",
       "    }\n",
       "</style>\n",
       "<table border=\"1\" class=\"dataframe\">\n",
       "  <thead>\n",
       "    <tr style=\"text-align: right;\">\n",
       "      <th></th>\n",
       "      <th>Months</th>\n",
       "      <th>Region Midwest</th>\n",
       "      <th>Region Northeast</th>\n",
       "      <th>Region South</th>\n",
       "      <th>Region West</th>\n",
       "      <th>Total</th>\n",
       "    </tr>\n",
       "  </thead>\n",
       "  <tbody>\n",
       "    <tr>\n",
       "      <th>0</th>\n",
       "      <td>Feb</td>\n",
       "      <td>22</td>\n",
       "      <td>45</td>\n",
       "      <td>27</td>\n",
       "      <td>37</td>\n",
       "      <td>131</td>\n",
       "    </tr>\n",
       "    <tr>\n",
       "      <th>1</th>\n",
       "      <td>Mar</td>\n",
       "      <td>28</td>\n",
       "      <td>38</td>\n",
       "      <td>43</td>\n",
       "      <td>26</td>\n",
       "      <td>135</td>\n",
       "    </tr>\n",
       "    <tr>\n",
       "      <th>2</th>\n",
       "      <td>Apr</td>\n",
       "      <td>27</td>\n",
       "      <td>37</td>\n",
       "      <td>38</td>\n",
       "      <td>25</td>\n",
       "      <td>127</td>\n",
       "    </tr>\n",
       "    <tr>\n",
       "      <th>3</th>\n",
       "      <td>May</td>\n",
       "      <td>26</td>\n",
       "      <td>35</td>\n",
       "      <td>41</td>\n",
       "      <td>31</td>\n",
       "      <td>133</td>\n",
       "    </tr>\n",
       "    <tr>\n",
       "      <th>4</th>\n",
       "      <td>Jun</td>\n",
       "      <td>22</td>\n",
       "      <td>31</td>\n",
       "      <td>39</td>\n",
       "      <td>25</td>\n",
       "      <td>117</td>\n",
       "    </tr>\n",
       "  </tbody>\n",
       "</table>\n",
       "</div>"
      ],
      "text/plain": [
       "  Months  Region Midwest  Region Northeast  Region South  Region West  Total\n",
       "0    Feb              22                45            27           37    131\n",
       "1    Mar              28                38            43           26    135\n",
       "2    Apr              27                37            38           25    127\n",
       "3    May              26                35            41           31    133\n",
       "4    Jun              22                31            39           25    117"
      ]
     },
     "execution_count": 126,
     "metadata": {},
     "output_type": "execute_result"
    }
   ],
   "source": [
    "df.drop_duplicates()"
   ]
  },
  {
   "cell_type": "markdown",
   "id": "8cc3d714",
   "metadata": {},
   "source": [
    "Save the existing data frame as a new CSV file or save to json or excel using:\n",
    "\n",
    "df.to_json('name_of_new_file.json')\n",
    "\n",
    "\n",
    "df.to_excel('name_of_new_file.xlsx', index=False)\n",
    "\n",
    "Note, index=False can be added to the other."
   ]
  },
  {
   "cell_type": "code",
   "execution_count": 132,
   "id": "ce1a7801",
   "metadata": {},
   "outputs": [],
   "source": [
    "df.to_csv('data2.csv')"
   ]
  }
 ],
 "metadata": {
  "kernelspec": {
   "display_name": "Python 3 (ipykernel)",
   "language": "python",
   "name": "python3"
  },
  "language_info": {
   "codemirror_mode": {
    "name": "ipython",
    "version": 3
   },
   "file_extension": ".py",
   "mimetype": "text/x-python",
   "name": "python",
   "nbconvert_exporter": "python",
   "pygments_lexer": "ipython3",
   "version": "3.9.13"
  }
 },
 "nbformat": 4,
 "nbformat_minor": 5
}
